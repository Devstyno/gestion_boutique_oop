{
 "cells": [
  {
   "cell_type": "markdown",
   "metadata": {},
   "source": [
    "# Simulez ensuite la vente des articles"
   ]
  },
  {
   "cell_type": "code",
   "execution_count": 1,
   "metadata": {},
   "outputs": [],
   "source": [
    "from modele.article import Article\n",
    "from modele.achat import Achat\n",
    "from modele.facture import Facture"
   ]
  },
  {
   "cell_type": "code",
   "execution_count": 2,
   "metadata": {},
   "outputs": [],
   "source": [
    "# • Instanciez deux nouveaux articles\n",
    "art_1 = Article(\"CODE001\", \"Gourde\", 2500, \"Accessoire\", 15)\n",
    "art_2 = Article(\"CODE002\", \"Stylo Schneider\", 150, \"Academique\", 20)"
   ]
  },
  {
   "cell_type": "code",
   "execution_count": 3,
   "metadata": {},
   "outputs": [
    {
     "name": "stdout",
     "output_type": "stream",
     "text": [
      "Code : CODE001\n",
      "Designation : Gourde\n",
      "Prix : 2500\n",
      "Categorie : Accessoire\n",
      "Quantite en stock : 15\n"
     ]
    }
   ],
   "source": [
    "# • Affichez les informations de l’article\n",
    "print(art_1.afficher())"
   ]
  },
  {
   "cell_type": "code",
   "execution_count": 4,
   "metadata": {},
   "outputs": [],
   "source": [
    "# • Créez aussi deux achats correspondants aux deux articles instanciés\n",
    "achat_1 = Achat(art_1, 3)\n",
    "achat_2 = Achat(art_2, 10)"
   ]
  },
  {
   "cell_type": "code",
   "execution_count": 5,
   "metadata": {},
   "outputs": [],
   "source": [
    "# • Modifiez la quantité d’articles achetés pour le premier achat\n",
    "achat_1.quantite_achetee = 4"
   ]
  },
  {
   "cell_type": "code",
   "execution_count": 6,
   "metadata": {},
   "outputs": [],
   "source": [
    "# • Créez ensuite une nouvelle facture correspondant à une nouvelle vente\n",
    "facture_1 = Facture()"
   ]
  },
  {
   "cell_type": "code",
   "execution_count": 7,
   "metadata": {},
   "outputs": [],
   "source": [
    "# • Ajoutez ensuite les deux achats précédents à la facture\n",
    "facture_1.ajouter_achat(achat_1)\n",
    "facture_1.ajouter_achat(achat_2)"
   ]
  },
  {
   "cell_type": "code",
   "execution_count": 8,
   "metadata": {},
   "outputs": [
    {
     "name": "stdout",
     "output_type": "stream",
     "text": [
      "11500\n"
     ]
    }
   ],
   "source": [
    "# • Affichez le montant total de la facture\n",
    "print(facture_1.montant_total_facture())"
   ]
  },
  {
   "cell_type": "code",
   "execution_count": 9,
   "metadata": {},
   "outputs": [
    {
     "name": "stdout",
     "output_type": "stream",
     "text": [
      "Numero: 1\t\t\t\t\t\t\t\tDate: 2024-06-26 18:35:51\n",
      "\t\t\t\t\tListe des achats\n",
      "Designation\t\tPrix unitaire (XOF)\t\tQuantite\tPrix total (XOF)\n",
      "Gourde                  2500                            4               10000               \n",
      "Stylo Schneider         150                             10              1500                \n",
      "\n",
      "Montant total: 11500\n"
     ]
    }
   ],
   "source": [
    "# • Affichez tous les détails de la facture\n",
    "facture_1.detail_facture()"
   ]
  }
 ],
 "metadata": {
  "kernelspec": {
   "display_name": "Python 3",
   "language": "python",
   "name": "python3"
  },
  "language_info": {
   "codemirror_mode": {
    "name": "ipython",
    "version": 3
   },
   "file_extension": ".py",
   "mimetype": "text/x-python",
   "name": "python",
   "nbconvert_exporter": "python",
   "pygments_lexer": "ipython3",
   "version": "3.12.0"
  }
 },
 "nbformat": 4,
 "nbformat_minor": 2
}
